{
 "cells": [
  {
   "cell_type": "markdown",
   "metadata": {},
   "source": [
    "## Entrada / Salida"
   ]
  },
  {
   "cell_type": "markdown",
   "metadata": {},
   "source": [
    "1) Crear un script con el nombre \"clase09_ej1.py\" que reciba 3 parametros a elección, verificando que sean exactamente esa cantidad, y muestre como salida los parámetros recibidos"
   ]
  },
  {
   "cell_type": "markdown",
   "metadata": {},
   "source": [
    "2) Crear un script con el nombre \"clase09_ej2.py2\" que reciba como un valor de temperatura en grados centígrados, un valor de humedad y por último si llovio (Con True o False). Y que cada vez que sea invocado, cargue en el archivo provisto \"clase09_ej2.csv\" una marca de tiempo y esa información."
   ]
  },
  {
   "cell_type": "markdown",
   "metadata": {},
   "source": [
    "Para trabajar con tipos de datos relacionados con la medición del tiempo, como ser fechas, horarios o marcas de tiempo se puede utilizar la clase *datetime*"
   ]
  },
  {
   "cell_type": "code",
   "execution_count": 2,
   "metadata": {},
   "outputs": [
    {
     "name": "stdout",
     "output_type": "stream",
     "text": [
      "ERROR: Introdujo uno (1) o más de dos (2) argumentos\n",
      "SOLUCIÓN: Introduce los argumentos correctamente\n",
      "Ejemplo: ejemplo_parametros.py \"Texto\" 5\n",
      "El argumento 0 es el nombre del archivo: c:\\Users\\tacas\\AppData\\Local\\Programs\\Python\\Python310\\lib\\site-packages\\ipykernel_launcher.py\n"
     ]
    }
   ],
   "source": [
    "import datetime\n",
    "import sys\n",
    "# Comprobación de seguridad, ejecutar sólo si se reciben 2 \n",
    "# argumentos realemente\n",
    "\n",
    "if len(sys.argv) == 3:\n",
    "    texto = sys.argv[1]\n",
    "    repeticiones = int(sys.argv[2])\n",
    "    for r in range(repeticiones):\n",
    "        print(texto)\n",
    "else:\n",
    "    print(\"ERROR: Introdujo uno (1) o más de dos (2) argumentos\")\n",
    "    print(\"SOLUCIÓN: Introduce los argumentos correctamente\")\n",
    "    print('Ejemplo: ejemplo_parametros.py \"Texto\" 5')\n",
    "print(\"El argumento 0 es el nombre del archivo:\", sys.argv[0])"
   ]
  },
  {
   "cell_type": "code",
   "execution_count": 3,
   "metadata": {},
   "outputs": [
    {
     "name": "stdout",
     "output_type": "stream",
     "text": [
      "Ahora = 2022-05-14 08:41:20.559200\n",
      "Ahora = 1652535680\n",
      "Fecha fija = 2020-05-10 00:00:00\n",
      "__main__\n"
     ]
    }
   ],
   "source": [
    "x = datetime.datetime.now()\n",
    "print(\"Ahora =\",x)\n",
    "x = int(datetime.datetime.timestamp(x))\n",
    "print(\"Ahora =\",x)\n",
    "\n",
    "x = datetime.datetime(2020, 5, 10)\n",
    "print(\"Fecha fija =\",x)\n",
    "\n",
    "print(__name__)"
   ]
  },
  {
   "cell_type": "code",
   "execution_count": 3,
   "metadata": {},
   "outputs": [
    {
     "name": "stdout",
     "output_type": "stream",
     "text": [
      "objeto datetime = 2022-05-10 12:30:00\n",
      "timestamp = 1652196600.0\n",
      "fecha hora = 2022-05-10 12:30:00\n"
     ]
    }
   ],
   "source": [
    "fecha_hora = '2022-05-10 12:30:00'\n",
    "objeto_datetime = datetime.datetime.strptime(fecha_hora, '%Y-%m-%d %H:%M:%S')\n",
    "print(\"objeto datetime =\", objeto_datetime)\n",
    "marca_de_tiempo = datetime.datetime.timestamp(objeto_datetime)\n",
    "print(\"timestamp =\", marca_de_tiempo)\n",
    "fecha_hora2 = datetime.datetime.fromtimestamp(marca_de_tiempo)\n",
    "print(\"fecha hora =\", fecha_hora2)"
   ]
  },
  {
   "cell_type": "markdown",
   "metadata": {},
   "source": [
    "3) Crear un archivo a partir de los datos presentes en el diccionario provisto. El cual debe contener en la primera fila el nombre de las claves y luego cada línea los elementos i-ésimos de las listas de valores contiguos y separados por coma ','. Este archivo debe llamarse clase09_ej3.csv"
   ]
  },
  {
   "cell_type": "code",
   "execution_count": 21,
   "metadata": {},
   "outputs": [],
   "source": [
    "montañas = {'nombre':[  'Everest','K2','Kanchenjunga','Lhotse','Makalu',\n",
    "                        'Cho Oyu','Dhaulagiri','Manaslu','Nanga Parbat','Annapurna I'],\n",
    "            'orden':[1,2,3,4,5,6,7,8,9,10],\n",
    "            'cordillera':['Himalaya','Karakórum','Himalaya','Himalaya','Himalaya'\n",
    "                        ,'Himalaya','Himalaya','Himalaya','Karakórum','Himalaya'],\n",
    "            'pais': ['Nepal','Pakistán','Nepal','Nepal','Nepal','Nepal','Nepal','Nepal',\n",
    "                    'Pakistán','Nepal'],\n",
    "            'altura':[8849,8611,8586,8516,8485,8188,8167,8163,8125,8091]}\n",
    "\n",
    "\n",
    "file = open('clase09_ej3.csv','a')\n",
    "cadena = \"\"\n",
    "cont = 0\n",
    "for i in montañas.keys():\n",
    "        if(i != 'altura'):\n",
    "                file.write(i+\",\")\n",
    "        else:\n",
    "                file.write(i+\"\\n\")\n",
    "\n",
    "while cont < len(montañas['pais']):\n",
    "        file.write(montañas['nombre'][cont]+',')\n",
    "        file.write(str(montañas['orden'][cont])+',')\n",
    "        file.write(montañas['cordillera'][cont]+',')\n",
    "        file.write(montañas['pais'][cont]+',')\n",
    "        file.write(str(montañas['altura'][cont])+'\\n')\n",
    "        cont+=1\n",
    "file.close()\n",
    "\n"
   ]
  },
  {
   "cell_type": "code",
   "execution_count": 29,
   "metadata": {},
   "outputs": [],
   "source": [
    "import os\n",
    "#archivo = open('clase09_ej3.csv', 'w')\n",
    "cadena=''\n",
    "n = 0\n",
    "archivo = open(\"clase09_ej3.csv\",'w')\n",
    "#pasar las claves al archivo\n",
    "for i in montañas.keys():\n",
    "    cadena +=i\n",
    "    if(i != 'altura'):\n",
    "        archivo.write(i+\",\")\n",
    "    else:\n",
    "        archivo.write(i+\"\\n\")\n",
    "#pasar los valores al archivo\n",
    "while n<10:\n",
    "    archivo.write(montañas['nombre'][n]+\",\")\n",
    "    archivo.write(str(montañas['orden'][n])+\",\")\n",
    "    archivo.write(montañas['cordillera'][n]+\",\")\n",
    "    archivo.write(montañas['pais'][n]+\",\")\n",
    "    archivo.write(str(montañas['altura'][n])+\"\\n\")\n",
    "    n+=1\n",
    "archivo.close()"
   ]
  },
  {
   "cell_type": "code",
   "execution_count": 12,
   "metadata": {},
   "outputs": [],
   "source": [
    "'''\n",
    "for clave in montañas.keys():\n",
    "    if (clave == 'altura'):\n",
    "        archivo.write(clave+'\\n')\n",
    "    else:\n",
    "        archivo.write(clave+',')\n",
    "'''\n"
   ]
  },
  {
   "cell_type": "code",
   "execution_count": 13,
   "metadata": {},
   "outputs": [],
   "source": [
    "ind = 0\n",
    "while (ind < 10):\n",
    "    archivo.write(montañas['nombre'][ind]+',')\n",
    "    archivo.write(str(montañas['orden'][ind])+',')\n",
    "    archivo.write(montañas['cordillera'][ind]+',')\n",
    "    archivo.write(montañas['pais'][ind]+',')\n",
    "    archivo.write(str(montañas['altura'][ind])+'\\n')\n",
    "    ind += 1"
   ]
  },
  {
   "cell_type": "code",
   "execution_count": 14,
   "metadata": {},
   "outputs": [],
   "source": [
    "archivo.close()"
   ]
  },
  {
   "cell_type": "markdown",
   "metadata": {},
   "source": [
    "4) Mostrar el tamaño en MB del archivo generado en el punto 3"
   ]
  },
  {
   "cell_type": "code",
   "execution_count": 8,
   "metadata": {},
   "outputs": [
    {
     "name": "stdout",
     "output_type": "stream",
     "text": [
      "0.36\n"
     ]
    }
   ],
   "source": [
    "'''\n",
    "print('El archivo tiene un tamaño de', str(round(os.path.getsize('clase09_ej3.csv')/1024,2)),'MB')\n",
    "print(str(round(os.path.getsize('clase09_ej3.csv')/1024,2)))\n",
    "'''\n",
    "import os\n",
    "round(os.path.getsize('clase09_ej3.csv')/1024.2)\n",
    "print(str(round(os.path.getsize('clase09_ej3.csv')/1024,2)))\n"
   ]
  },
  {
   "cell_type": "markdown",
   "metadata": {},
   "source": [
    "5) Crear una carpeta llamada clase09_montañas_altas"
   ]
  },
  {
   "cell_type": "code",
   "execution_count": 9,
   "metadata": {},
   "outputs": [
    {
     "ename": "FileExistsError",
     "evalue": "[WinError 183] No se puede crear un archivo que ya existe: 'clase09_montañas_altas'",
     "output_type": "error",
     "traceback": [
      "\u001b[1;31m---------------------------------------------------------------------------\u001b[0m",
      "\u001b[1;31mFileExistsError\u001b[0m                           Traceback (most recent call last)",
      "\u001b[1;32mc:\\Users\\tacas\\Documents\\HENRY\\Python-Prep\\09 - Entrada-Salida y Manejo de Archivos\\Prep_Course_Homework_09-Resuelto.ipynb Cell 17'\u001b[0m in \u001b[0;36m<cell line: 2>\u001b[1;34m()\u001b[0m\n\u001b[0;32m      <a href='vscode-notebook-cell:/c%3A/Users/tacas/Documents/HENRY/Python-Prep/09%20-%20Entrada-Salida%20y%20Manejo%20de%20Archivos/Prep_Course_Homework_09-Resuelto.ipynb#ch0000016?line=0'>1</a>\u001b[0m \u001b[39m#os.makedirs('clase09_montañas_altas')\u001b[39;00m\n\u001b[1;32m----> <a href='vscode-notebook-cell:/c%3A/Users/tacas/Documents/HENRY/Python-Prep/09%20-%20Entrada-Salida%20y%20Manejo%20de%20Archivos/Prep_Course_Homework_09-Resuelto.ipynb#ch0000016?line=1'>2</a>\u001b[0m os\u001b[39m.\u001b[39;49mmakedirs(\u001b[39m'\u001b[39;49m\u001b[39mclase09_montañas_altas\u001b[39;49m\u001b[39m'\u001b[39;49m)\n",
      "File \u001b[1;32mc:\\Users\\tacas\\AppData\\Local\\Programs\\Python\\Python310\\lib\\os.py:225\u001b[0m, in \u001b[0;36mmakedirs\u001b[1;34m(name, mode, exist_ok)\u001b[0m\n\u001b[0;32m    <a href='file:///c%3A/Users/tacas/AppData/Local/Programs/Python/Python310/lib/os.py?line=222'>223</a>\u001b[0m         \u001b[39mreturn\u001b[39;00m\n\u001b[0;32m    <a href='file:///c%3A/Users/tacas/AppData/Local/Programs/Python/Python310/lib/os.py?line=223'>224</a>\u001b[0m \u001b[39mtry\u001b[39;00m:\n\u001b[1;32m--> <a href='file:///c%3A/Users/tacas/AppData/Local/Programs/Python/Python310/lib/os.py?line=224'>225</a>\u001b[0m     mkdir(name, mode)\n\u001b[0;32m    <a href='file:///c%3A/Users/tacas/AppData/Local/Programs/Python/Python310/lib/os.py?line=225'>226</a>\u001b[0m \u001b[39mexcept\u001b[39;00m \u001b[39mOSError\u001b[39;00m:\n\u001b[0;32m    <a href='file:///c%3A/Users/tacas/AppData/Local/Programs/Python/Python310/lib/os.py?line=226'>227</a>\u001b[0m     \u001b[39m# Cannot rely on checking for EEXIST, since the operating system\u001b[39;00m\n\u001b[0;32m    <a href='file:///c%3A/Users/tacas/AppData/Local/Programs/Python/Python310/lib/os.py?line=227'>228</a>\u001b[0m     \u001b[39m# could give priority to other errors like EACCES or EROFS\u001b[39;00m\n\u001b[0;32m    <a href='file:///c%3A/Users/tacas/AppData/Local/Programs/Python/Python310/lib/os.py?line=228'>229</a>\u001b[0m     \u001b[39mif\u001b[39;00m \u001b[39mnot\u001b[39;00m exist_ok \u001b[39mor\u001b[39;00m \u001b[39mnot\u001b[39;00m path\u001b[39m.\u001b[39misdir(name):\n",
      "\u001b[1;31mFileExistsError\u001b[0m: [WinError 183] No se puede crear un archivo que ya existe: 'clase09_montañas_altas'"
     ]
    }
   ],
   "source": [
    "#os.makedirs('clase09_montañas_altas')\n",
    "os.makedirs('clase09_montañas_altas')"
   ]
  },
  {
   "cell_type": "markdown",
   "metadata": {},
   "source": [
    "6) Copiar el archivo clase09_ej3.scv en la carpeta clase09_montañas_altas usando la sentencia **os.system**"
   ]
  },
  {
   "cell_type": "code",
   "execution_count": 10,
   "metadata": {},
   "outputs": [
    {
     "data": {
      "text/plain": [
       "0"
      ]
     },
     "execution_count": 10,
     "metadata": {},
     "output_type": "execute_result"
    }
   ],
   "source": [
    "os.system('copy clase09_ej3.csv clase09_montañas_altas')\n"
   ]
  },
  {
   "cell_type": "markdown",
   "metadata": {},
   "source": [
    "7) Listar el contenido de la carpeta clase09_montañas_altas"
   ]
  },
  {
   "cell_type": "code",
   "execution_count": 12,
   "metadata": {},
   "outputs": [
    {
     "data": {
      "text/plain": [
       "['clase09_ej3.csv']"
      ]
     },
     "execution_count": 12,
     "metadata": {},
     "output_type": "execute_result"
    }
   ],
   "source": [
    "os.listdir('clase09_montañas_altas')"
   ]
  }
 ],
 "metadata": {
  "interpreter": {
   "hash": "3bc86d9885e10fbb8f6d439d94813f2507bac85a425559903a8d4d8be592f11a"
  },
  "kernelspec": {
   "display_name": "Python 3.10.4 64-bit",
   "language": "python",
   "name": "python3"
  },
  "language_info": {
   "codemirror_mode": {
    "name": "ipython",
    "version": 3
   },
   "file_extension": ".py",
   "mimetype": "text/x-python",
   "name": "python",
   "nbconvert_exporter": "python",
   "pygments_lexer": "ipython3",
   "version": "3.10.4"
  }
 },
 "nbformat": 4,
 "nbformat_minor": 4
}
