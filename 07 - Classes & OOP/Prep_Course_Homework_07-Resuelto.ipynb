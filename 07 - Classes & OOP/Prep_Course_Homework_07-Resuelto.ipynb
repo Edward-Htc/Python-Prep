{
 "cells": [
  {
   "cell_type": "markdown",
   "metadata": {},
   "source": [
    "## Clases y Programación Orientada a Objetos"
   ]
  },
  {
   "cell_type": "markdown",
   "metadata": {},
   "source": [
    "1) Crear la clase vehículo que contenga los atributos:<br>\n",
    "Color<br>\n",
    "Si es moto, auto, camioneta ó camión<br>\n",
    "Cilindrada del motor"
   ]
  },
  {
   "cell_type": "code",
   "execution_count": 1,
   "metadata": {},
   "outputs": [],
   "source": [
    "class Vehiculo:\n",
    "    def __init__(self, color, tipo, cilindrada):\n",
    "        self.color = color\n",
    "        self.tipo = tipo\n",
    "        self.cilindrada = cilindrada\n",
    "\n",
    "class Vehiculo2:\n",
    "        def __init__(self,color,tipo,cilindrada):\n",
    "            self.color = color\n",
    "            self.tipo = tipo\n",
    "            self.cilindrada = cilindrada\n",
    "        \n",
    "            "
   ]
  },
  {
   "cell_type": "markdown",
   "metadata": {},
   "source": [
    "2) A la clase Vehiculo creada en el punto 1, agregar los siguientes métodos:<br>\n",
    "Acelerar<br>\n",
    "Frenar<br>\n",
    "Doblar<br>"
   ]
  },
  {
   "cell_type": "code",
   "execution_count": 1,
   "metadata": {},
   "outputs": [],
   "source": [
    "'''\n",
    "class Vehiculo:\n",
    "    def __init__(self, color, tipo, cilindrada):\n",
    "        self.color = color\n",
    "        self.tipo = tipo\n",
    "        self.cilindrada = cilindrada\n",
    "        self.velocidad = 0\n",
    "        self.direccion = 0\n",
    "\n",
    "    def Acelerar(self, vel):\n",
    "        self.velocidad += vel\n",
    "\n",
    "    def Frenar(self, vel):\n",
    "        self.velocidad -= vel\n",
    "    \n",
    "    def Doblar(self, grados):\n",
    "        self.direccion += grados\n",
    "'''\n",
    "\n",
    "class Vehiculo:\n",
    "    def __init__(self,color,tipo,cilindrada):\n",
    "        self.color=color\n",
    "        self.tipo=tipo\n",
    "        self.cilindrada=cilindrada\n",
    "        self.velocidad=0\n",
    "        self.direccion=0\n",
    "\n",
    "    def acelerar(self,vel):\n",
    "        self.velocidad+=vel\n",
    "    def frenar(self,vel):\n",
    "        self.velocidad-=vel\n",
    "    def doblar(self,grado):\n",
    "        self.direccion += grado\n",
    "\n",
    "    "
   ]
  },
  {
   "cell_type": "markdown",
   "metadata": {},
   "source": [
    "3) Instanciar 3 objetos de la clase vehículo y ejecutar sus métodos, probar luego el resultado"
   ]
  },
  {
   "cell_type": "code",
   "execution_count": 6,
   "metadata": {},
   "outputs": [],
   "source": [
    "'''\n",
    "a1 = Vehiculo('rojo', 'auto', 2)\n",
    "a2 = Vehiculo('blanco', 'camioneta', 3.6)\n",
    "a3 = Vehiculo('negro', 'moto', 1)\n",
    "'''\n",
    "v1 = Vehiculo('amarillo','auto',3)\n",
    "v2 = Vehiculo('rojo','moto',1)\n",
    "v3 = Vehiculo('rojo','camioneta',5)\n",
    "\n",
    "v1.acelerar(10)\n",
    "v2.acelerar(10)\n",
    "v3.acelerar(10)\n",
    "v1.frenar(3)\n",
    "v2.frenar(3)\n",
    "v3.frenar(3)\n",
    "v1.doblar(2)\n",
    "v2.doblar(1)\n",
    "v3.doblar(3)\n"
   ]
  },
  {
   "cell_type": "code",
   "execution_count": 7,
   "metadata": {},
   "outputs": [],
   "source": [
    "a1.Acelerar(40)\n",
    "a2.Acelerar(60)\n",
    "a3.Acelerar(30)\n",
    "a1.Doblar(30)\n",
    "a3.Doblar(-30)\n",
    "a2.Frenar(-50)"
   ]
  },
  {
   "cell_type": "markdown",
   "metadata": {},
   "source": [
    "4) Agregar a la clase Vehiculo, un método que muestre su estado, es decir, a que velocidad se encuentra y su dirección. Y otro método que muestre color, tipo y cilindrada"
   ]
  },
  {
   "cell_type": "code",
   "execution_count": 10,
   "metadata": {},
   "outputs": [],
   "source": [
    "'''\n",
    "class Vehiculo:\n",
    "    def __init__(self, color, tipo, cilindrada):\n",
    "        self.color = color\n",
    "        self.tipo = tipo\n",
    "        self.cilindrada = cilindrada\n",
    "        self.velocidad = 0\n",
    "        self.direccion = 0\n",
    "\n",
    "    def Acelerar(self, vel):\n",
    "        self.velocidad += vel\n",
    "\n",
    "    def Frenar(self, vel):\n",
    "        self.velocidad -= vel\n",
    "    \n",
    "    def Doblar(self, grados):\n",
    "        self.direccion += grados\n",
    "\n",
    "    def Estado(self):\n",
    "        print('Velocidad:', self.velocidad, '- Dirección:', self.direccion)\n",
    "\n",
    "    def Detalle(self):\n",
    "        print('Soy', self.tipo, 'de color', self.color, 'y mi cilindrada es de', self.cilindrada, 'litros')\n",
    "'''\n",
    "class Vehiculo:\n",
    "    def __init__(self,color,tipo,cilindrada):\n",
    "        self.color=color\n",
    "        self.tipo=tipo\n",
    "        self.cilindrada=cilindrada\n",
    "        self.velocidad=0\n",
    "        self.direccion=0\n",
    "\n",
    "    def acelerar(self,vel):\n",
    "        self.velocidad+=vel\n",
    "    def frenar(self,vel):\n",
    "        self.velocidad-=vel\n",
    "    def doblar(self,grado):\n",
    "        self.direccion += grado\n",
    "    def estado(self):\n",
    "        print(\"La velocidad: \",str(self.velocidad),\" direccion: \"+str(self.direccion))\n",
    "    def detalles(self):\n",
    "        print(\"Color: \",self.color,\" tipo: \"+self.tipo,\" cilindrada: \",self.cilindrada)\n"
   ]
  },
  {
   "cell_type": "code",
   "execution_count": 12,
   "metadata": {},
   "outputs": [
    {
     "name": "stdout",
     "output_type": "stream",
     "text": [
      "Color:  rojo  tipo: auto  cilindrada:  2\n"
     ]
    }
   ],
   "source": [
    "v1 = Vehiculo('rojo', 'auto', 2)\n",
    "v1.detalles()"
   ]
  },
  {
   "cell_type": "code",
   "execution_count": 13,
   "metadata": {},
   "outputs": [
    {
     "name": "stdout",
     "output_type": "stream",
     "text": [
      "La velocidad:  0  direccion: 0\n",
      "La velocidad:  30  direccion: 0\n"
     ]
    }
   ],
   "source": [
    "v1.estado()\n",
    "v1.acelerar(30)\n",
    "v1.estado()"
   ]
  },
  {
   "cell_type": "markdown",
   "metadata": {},
   "source": [
    "5) Crear una clase que permita utilizar las funciones creadas en la práctica del módulo 6<br>\n",
    "Verificar Primo<br>\n",
    "Valor modal<br>\n",
    "Conversión grados<br>\n",
    "Factorial<br>"
   ]
  },
  {
   "cell_type": "code",
   "execution_count": 14,
   "metadata": {},
   "outputs": [],
   "source": [
    "'''\n",
    "class Herramientas:\n",
    "    def __init__(self) -> None:\n",
    "        pass\n",
    "\n",
    "    def verifica_primo(self, nro):\n",
    "        es_primo = True\n",
    "        for i in range(2, nro):\n",
    "            if nro % i == 0:\n",
    "                es_primo = False\n",
    "                break\n",
    "        return es_primo\n",
    "\n",
    "    def valor_modal(self, lista, menor):\n",
    "        lista_unicos = []\n",
    "        lista_repeticiones = []\n",
    "        if len(lista) == 0:\n",
    "            return None\n",
    "        if (menor):\n",
    "            lista.sort()\n",
    "        else:\n",
    "            lista.sort(reverse=True)\n",
    "        for elemento in lista:\n",
    "            if elemento in lista_unicos:\n",
    "                i = lista_unicos.index(elemento)\n",
    "                lista_repeticiones[i] += 1\n",
    "            else:\n",
    "                lista_unicos.append(elemento)\n",
    "                lista_repeticiones.append(1)\n",
    "        moda = lista_unicos[0]\n",
    "        maximo = lista_repeticiones[0]\n",
    "        for i, elemento in enumerate(lista_unicos):\n",
    "            if lista_repeticiones[i] > maximo:\n",
    "                moda = lista_unicos[i]\n",
    "                maximo = lista_repeticiones[i]\n",
    "        return moda, maximo\n",
    "\n",
    "    def conversion_grados(self, valor, origen, destino):\n",
    "        valor_destino = None\n",
    "        if (origen == 'celsius'):\n",
    "            if (destino == 'celsius'):\n",
    "                valor_destino = valor\n",
    "            elif (destino == 'farenheit'):\n",
    "                valor_destino = (valor * 9 / 5) + 32\n",
    "            elif (destino == 'kelvin'):\n",
    "                valor_destino = valor + 273.15\n",
    "            else:\n",
    "                print('Parámetro de Destino incorrecto')\n",
    "        elif (origen == 'farenheit'):\n",
    "            if (destino == 'celsius'):\n",
    "                valor_destino = (valor - 32) * 5 / 9\n",
    "            elif (destino == 'farenheit'):\n",
    "                valor_destino = valor\n",
    "            elif (destino == 'kelvin'):\n",
    "                valor_destino = ((valor - 32) * 5 / 9) + 273.15\n",
    "            else:\n",
    "                print('Parámetro de Destino incorrecto')\n",
    "        elif (origen == 'kelvin'):\n",
    "            if (destino == 'celsius'):\n",
    "                valor_destino = valor - 273.15\n",
    "            elif (destino == 'farenheit'):\n",
    "                valor_destino = ((valor - 273.15) * 9 / 5) + 32\n",
    "            elif (destino == 'kelvin'):\n",
    "                valor_destino = valor\n",
    "            else:\n",
    "                print('Parámetro de Destino incorrecto')\n",
    "        else:\n",
    "            print('Parámetro de Origen incorrecto')\n",
    "        return valor_destino\n",
    "\n",
    "    def factorial(self, numero):\n",
    "        if(type(numero) != int):\n",
    "            return 'El numero debe ser un entero'\n",
    "        if(numero < 0):\n",
    "            return 'El numero debe ser pisitivo'\n",
    "        if (numero > 1):\n",
    "            numero = numero * self.factorial(numero - 1)\n",
    "        return numero\n",
    "'''\n",
    "\n",
    "class Metodos:\n",
    "    def __init__(self):\n",
    "        pass\n",
    "\n",
    "    def factorial(self,numero):\n",
    "        if(type(numero) != int):\n",
    "            return \"El dato debe de ser de tipo entero\"\n",
    "        if(numero <= 0):\n",
    "            return \"El numero debe de ser positivo mayor a cero\"\n",
    "        if(numero > 1):\n",
    "            numero = numero * self.factorial(numero-1)\n",
    "        return numero\n",
    "    \n",
    "    def conversion_grados(self,valor, origen, destino):\n",
    "        if (origen == 'celsius'):\n",
    "            if (destino == 'celsius'):\n",
    "                valor_destino = valor\n",
    "            elif (destino == 'farenheit'):\n",
    "                valor_destino = (valor * 9 / 5) + 32\n",
    "            elif (destino == 'kelvin'):\n",
    "                valor_destino = valor + 273.15\n",
    "            else:\n",
    "                print('Parámetro de Destino incorrecto')\n",
    "        elif (origen == 'farenheit'):\n",
    "            if (destino == 'celsius'):\n",
    "                valor_destino = (valor - 32) * 5 / 9\n",
    "            elif (destino == 'farenheit'):\n",
    "                valor_destino = valor\n",
    "            elif (destino == 'kelvin'):\n",
    "                valor_destino = ((valor - 32) * 5 / 9) + 273.15\n",
    "            else:\n",
    "                print('Parámetro de Destino incorrecto')\n",
    "        elif (origen == 'kelvin'):\n",
    "            if (destino == 'celsius'):\n",
    "                valor_destino = valor - 273.15\n",
    "            elif (destino == 'farenheit'):\n",
    "                valor_destino = ((valor - 273.15) * 9 / 5) + 32\n",
    "            elif (destino == 'kelvin'):\n",
    "                valor_destino = valor\n",
    "            else:\n",
    "                print('Parámetro de Destino incorrecto')\n",
    "        else:\n",
    "            print('Parámetro de Origen incorrecto')\n",
    "        return valor_destino\n",
    "        \n",
    "    def esPrimo (self,numero):\n",
    "        primo = True\n",
    "        for i in range(2,numero+1):\n",
    "            if(numero % i == 0 and i < numero):\n",
    "                primo = False\n",
    "                break\n",
    "        return primo   \n",
    "    \n",
    "    def crearDicc(self,lista):\n",
    "        diccionario = {}\n",
    "        for i in lista:\n",
    "            cantidad = 0\n",
    "            cantidad = lista.count(i)\n",
    "            if(not bool(diccionario) == True):\n",
    "                diccionario[i] = cantidad\n",
    "            elif(not(i in diccionario)):\n",
    "                diccionario[i] = cantidad\n",
    "        return diccionario\n",
    "\n",
    "    def encontrarMayorRepetido(self,lista,opcion=\"mayor\"):\n",
    "        mayor = -999\n",
    "        menor = 999\n",
    "        clave = 0\n",
    "        clave2 = 0\n",
    "        diccionario = self.crearDicc(lista)\n",
    "        for i in diccionario:\n",
    "            if(mayor < diccionario[i]):\n",
    "                mayor = diccionario[i]\n",
    "                clave = i\n",
    "            if(menor > diccionario[i]):\n",
    "                menor = diccionario[i]\n",
    "                clave2 = i\n",
    "\n",
    "        if(opcion == \"mayor\"):\n",
    "            return \"el numero que mas se repite es el \"+str(clave)+\" con \"+str(mayor)+\" repeticiones\"\n",
    "        return \"el numero que menos se repite es el \"+str(clave2)+\" con \"+str(menor)+\" repeticiones\""
   ]
  },
  {
   "cell_type": "code",
   "execution_count": 15,
   "metadata": {},
   "outputs": [],
   "source": [
    "m = Metodos()"
   ]
  },
  {
   "cell_type": "markdown",
   "metadata": {},
   "source": [
    "6) Probar las funciones incorporadas en la clase del punto 5"
   ]
  },
  {
   "cell_type": "code",
   "execution_count": 16,
   "metadata": {},
   "outputs": [
    {
     "data": {
      "text/plain": [
       "True"
      ]
     },
     "execution_count": 16,
     "metadata": {},
     "output_type": "execute_result"
    }
   ],
   "source": [
    "m.esPrimo(7)"
   ]
  },
  {
   "cell_type": "code",
   "execution_count": 17,
   "metadata": {},
   "outputs": [
    {
     "name": "stdout",
     "output_type": "stream",
     "text": [
      "el numero que mas se repite es el 8 con 2 repeticiones\n"
     ]
    }
   ],
   "source": [
    "listado = [1,8,2,5,4,8,10,7]\n",
    "print(m.encontrarMayorRepetido(listado))\n"
   ]
  },
  {
   "cell_type": "code",
   "execution_count": 18,
   "metadata": {},
   "outputs": [
    {
     "data": {
      "text/plain": [
       "283.15"
      ]
     },
     "execution_count": 18,
     "metadata": {},
     "output_type": "execute_result"
    }
   ],
   "source": [
    "m.conversion_grados(10, 'celsius', 'kelvin')"
   ]
  },
  {
   "cell_type": "code",
   "execution_count": 19,
   "metadata": {},
   "outputs": [
    {
     "data": {
      "text/plain": [
       "720"
      ]
     },
     "execution_count": 19,
     "metadata": {},
     "output_type": "execute_result"
    }
   ],
   "source": [
    "m.factorial(6)"
   ]
  },
  {
   "cell_type": "markdown",
   "metadata": {},
   "source": [
    "7) Es necesario que la clase creada en el punto 5 contenga una lista, sobre la cual se aplquen las funciones incorporadas"
   ]
  },
  {
   "cell_type": "code",
   "execution_count": 24,
   "metadata": {},
   "outputs": [],
   "source": [
    "class Metodos:\n",
    "    def __init__(self,lista):\n",
    "        self.lista = lista\n",
    "#-----------------------------------------------------\n",
    "    def lista_Factorial(self):\n",
    "        for i in self.lista:\n",
    "            print(self.factorial(i))\n",
    "    \n",
    "    def lista_Conversion_grados(self,origen,destino):\n",
    "        for i in self.lista:\n",
    "            print(self.conversion_grados(i,origen,destino))\n",
    "\n",
    "    def lista_esPrimo(self):\n",
    "        for i in self.lista:\n",
    "            print(self.esPrimo(i))\n",
    "            \n",
    "    def lista_Moda(self):\n",
    "        print(self.encontrarMayorRepetido(self.lista))\n",
    "#-----------------------------------------------------\n",
    "    def factorial(self,numero):\n",
    "        if(type(numero) != int):\n",
    "            return \"El dato debe de ser de tipo entero\"\n",
    "        if(numero <= 0):\n",
    "            return \"El numero debe de ser positivo mayor a cero\"\n",
    "        if(numero > 1):\n",
    "            numero = numero * self.factorial(numero-1)\n",
    "        return numero\n",
    "    \n",
    "    def conversion_grados(self,valor, origen, destino):\n",
    "        if (origen == 'celsius'):\n",
    "            if (destino == 'celsius'):\n",
    "                valor_destino = valor\n",
    "            elif (destino == 'farenheit'):\n",
    "                valor_destino = (valor * 9 / 5) + 32\n",
    "            elif (destino == 'kelvin'):\n",
    "                valor_destino = valor + 273.15\n",
    "            else:\n",
    "                print('Parámetro de Destino incorrecto')\n",
    "        elif (origen == 'farenheit'):\n",
    "            if (destino == 'celsius'):\n",
    "                valor_destino = (valor - 32) * 5 / 9\n",
    "            elif (destino == 'farenheit'):\n",
    "                valor_destino = valor\n",
    "            elif (destino == 'kelvin'):\n",
    "                valor_destino = ((valor - 32) * 5 / 9) + 273.15\n",
    "            else:\n",
    "                print('Parámetro de Destino incorrecto')\n",
    "        elif (origen == 'kelvin'):\n",
    "            if (destino == 'celsius'):\n",
    "                valor_destino = valor - 273.15\n",
    "            elif (destino == 'farenheit'):\n",
    "                valor_destino = ((valor - 273.15) * 9 / 5) + 32\n",
    "            elif (destino == 'kelvin'):\n",
    "                valor_destino = valor\n",
    "            else:\n",
    "                print('Parámetro de Destino incorrecto')\n",
    "        else:\n",
    "            print('Parámetro de Origen incorrecto')\n",
    "        return valor_destino\n",
    "        \n",
    "    def esPrimo (self,numero):\n",
    "        primo = True\n",
    "        for i in range(2,numero+1):\n",
    "            if(numero % i == 0 and i < numero):\n",
    "                primo = False\n",
    "                break\n",
    "        return primo   \n",
    "    \n",
    "    def crearDicc(self,lista):\n",
    "        diccionario = {}\n",
    "        for i in lista:\n",
    "            cantidad = 0\n",
    "            cantidad = lista.count(i)\n",
    "            if(not bool(diccionario) == True):\n",
    "                diccionario[i] = cantidad\n",
    "            elif(not(i in diccionario)):\n",
    "                diccionario[i] = cantidad\n",
    "        return diccionario\n",
    "\n",
    "    def encontrarMayorRepetido(self,lista,opcion=\"mayor\"):\n",
    "        mayor = -999\n",
    "        menor = 999\n",
    "        clave = 0\n",
    "        clave2 = 0\n",
    "        diccionario = self.crearDicc(lista)\n",
    "        for i in diccionario:\n",
    "            if(mayor < diccionario[i]):\n",
    "                mayor = diccionario[i]\n",
    "                clave = i\n",
    "            if(menor > diccionario[i]):\n",
    "                menor = diccionario[i]\n",
    "                clave2 = i\n",
    "\n",
    "        if(opcion == \"mayor\"):\n",
    "            return \"el numero que mas se repite es el \"+str(clave)+\" con \"+str(mayor)+\" repeticiones\"\n",
    "        return \"el numero que menos se repite es el \"+str(clave2)+\" con \"+str(menor)+\" repeticiones\""
   ]
  },
  {
   "cell_type": "code",
   "execution_count": 25,
   "metadata": {},
   "outputs": [],
   "source": [
    "m = Metodos([1,1,2,5,8,8,9,11,15,16,16,16,18,20])"
   ]
  },
  {
   "cell_type": "code",
   "execution_count": 26,
   "metadata": {},
   "outputs": [
    {
     "name": "stdout",
     "output_type": "stream",
     "text": [
      "33.8\n",
      "33.8\n",
      "35.6\n",
      "41.0\n",
      "46.4\n",
      "46.4\n",
      "48.2\n",
      "51.8\n",
      "59.0\n",
      "60.8\n",
      "60.8\n",
      "60.8\n",
      "64.4\n",
      "68.0\n"
     ]
    }
   ],
   "source": [
    "m.lista_Conversion_grados('celsius','farenheit')"
   ]
  },
  {
   "cell_type": "code",
   "execution_count": 27,
   "metadata": {},
   "outputs": [
    {
     "name": "stdout",
     "output_type": "stream",
     "text": [
      "True\n",
      "True\n",
      "True\n",
      "True\n",
      "False\n",
      "False\n",
      "False\n",
      "True\n",
      "False\n",
      "False\n",
      "False\n",
      "False\n",
      "False\n",
      "False\n"
     ]
    }
   ],
   "source": [
    "m.lista_esPrimo()"
   ]
  },
  {
   "cell_type": "code",
   "execution_count": 28,
   "metadata": {},
   "outputs": [
    {
     "name": "stdout",
     "output_type": "stream",
     "text": [
      "el numero que mas se repite es el 16 con 3 repeticiones\n"
     ]
    }
   ],
   "source": [
    "m.lista_Moda()\n"
   ]
  },
  {
   "cell_type": "code",
   "execution_count": 29,
   "metadata": {},
   "outputs": [
    {
     "name": "stdout",
     "output_type": "stream",
     "text": [
      "1\n",
      "1\n",
      "2\n",
      "120\n",
      "40320\n",
      "40320\n",
      "362880\n",
      "39916800\n",
      "1307674368000\n",
      "20922789888000\n",
      "20922789888000\n",
      "20922789888000\n",
      "6402373705728000\n",
      "2432902008176640000\n"
     ]
    }
   ],
   "source": [
    "m.lista_Factorial()"
   ]
  },
  {
   "cell_type": "markdown",
   "metadata": {},
   "source": [
    "8) Crear un archivo .py aparte y ubicar allí la clase generada en el punto anterior. Luego realizar la importación del módulo y probar alguna de sus funciones"
   ]
  },
  {
   "cell_type": "code",
   "execution_count": 30,
   "metadata": {},
   "outputs": [],
   "source": [
    "from Metodos import *"
   ]
  },
  {
   "cell_type": "code",
   "execution_count": 31,
   "metadata": {},
   "outputs": [],
   "source": [
    "m2 = Metodos([1,1,2,3,5,6,8,8])"
   ]
  },
  {
   "cell_type": "code",
   "execution_count": 32,
   "metadata": {},
   "outputs": [
    {
     "name": "stdout",
     "output_type": "stream",
     "text": [
      "True\n",
      "True\n",
      "True\n",
      "True\n",
      "True\n",
      "False\n",
      "False\n",
      "False\n"
     ]
    }
   ],
   "source": [
    "m2.lista_esPrimo()"
   ]
  }
 ],
 "metadata": {
  "interpreter": {
   "hash": "3bc86d9885e10fbb8f6d439d94813f2507bac85a425559903a8d4d8be592f11a"
  },
  "kernelspec": {
   "display_name": "Python 3.10.4 64-bit",
   "language": "python",
   "name": "python3"
  },
  "language_info": {
   "codemirror_mode": {
    "name": "ipython",
    "version": 3
   },
   "file_extension": ".py",
   "mimetype": "text/x-python",
   "name": "python",
   "nbconvert_exporter": "python",
   "pygments_lexer": "ipython3",
   "version": "3.10.4"
  }
 },
 "nbformat": 4,
 "nbformat_minor": 4
}
