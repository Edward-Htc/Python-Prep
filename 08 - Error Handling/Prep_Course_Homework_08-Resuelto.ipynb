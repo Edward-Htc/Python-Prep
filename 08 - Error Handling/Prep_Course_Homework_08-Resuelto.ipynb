{
 "cells": [
  {
   "cell_type": "markdown",
   "metadata": {},
   "source": [
    "## Manejo de errores"
   ]
  },
  {
   "cell_type": "markdown",
   "metadata": {},
   "source": [
    "1) Con la clase creada en el módulo 7, tener en cuenta diferentes casos en que el código pudiera arrojar error. Por ejemplo, en la creación del objeto recibimos una lista de números enteros pero ¿qué pasa si se envía otro tipo de dato?"
   ]
  },
  {
   "cell_type": "code",
   "execution_count": 1,
   "metadata": {},
   "outputs": [
    {
     "name": "stdout",
     "output_type": "stream",
     "text": [
      "<bound method ClaseAnimal.<locals>.Animal.CumplirAnios of <__main__.ClaseAnimal.<locals>.Animal object at 0x0000028A3C9BC250>>\n",
      "<bound method ClaseAnimal.<locals>.Animal.CumplirAnios of <__main__.ClaseAnimal.<locals>.Animal object at 0x0000028A3C9BC250>>\n"
     ]
    }
   ],
   "source": [
    "'''\n",
    "import sys\n",
    "sys.path.append(r'/C:/Users/lopez/Documents/Henry/Repos/Python-Prep/07 - Classes & OOP/herramientas.py')\n",
    "'''\n",
    "def ClaseAnimal(especie, color):\n",
    "    class Animal:\n",
    "        def __init__(self,especie,color):\n",
    "                self.edad = 0\n",
    "                self.especie = especie\n",
    "                self.color = color\n",
    "                \n",
    "        def CumplirAnios(self):\n",
    "                self.edad += 1\n",
    "                return self.edad\n",
    "    \n",
    "    return Animal(especie,color)\n",
    "animal = ClaseAnimal(\"perro\",\"blanco\")\n",
    "print(animal.CumplirAnios())\n",
    "print(animal.CumplirAnios())\n",
    "print(animal.CumplirAnios())\n",
    "print(animal.CumplirAnios())"
   ]
  },
  {
   "cell_type": "code",
   "execution_count": 1,
   "metadata": {},
   "outputs": [],
   "source": [
    "from Metodos import *"
   ]
  },
  {
   "cell_type": "code",
   "execution_count": 2,
   "metadata": {},
   "outputs": [
    {
     "ename": "ValueError",
     "evalue": "El valor ingresado no es de tipo 'List' ",
     "output_type": "error",
     "traceback": [
      "\u001b[1;31m---------------------------------------------------------------------------\u001b[0m",
      "\u001b[1;31mValueError\u001b[0m                                Traceback (most recent call last)",
      "\u001b[1;32mc:\\Users\\tacas\\Documents\\HENRY\\Python-Prep\\08 - Error Handling\\Prep_Course_Homework_08-Resuelto.ipynb Cell 5'\u001b[0m in \u001b[0;36m<cell line: 1>\u001b[1;34m()\u001b[0m\n\u001b[1;32m----> <a href='vscode-notebook-cell:/c%3A/Users/tacas/Documents/HENRY/Python-Prep/08%20-%20Error%20Handling/Prep_Course_Homework_08-Resuelto.ipynb#ch0000004?line=0'>1</a>\u001b[0m m \u001b[39m=\u001b[39m Metodos(\u001b[39m'\u001b[39;49m\u001b[39mhola\u001b[39;49m\u001b[39m'\u001b[39;49m)\n",
      "File \u001b[1;32mc:\\Users\\tacas\\Documents\\HENRY\\Python-Prep\\08 - Error Handling\\Metodos.py:8\u001b[0m, in \u001b[0;36mMetodos.__init__\u001b[1;34m(self, lista)\u001b[0m\n\u001b[0;32m      <a href='file:///c%3A/Users/tacas/Documents/HENRY/Python-Prep/08%20-%20Error%20Handling/Metodos.py?line=5'>6</a>\u001b[0m \u001b[39mdef\u001b[39;00m \u001b[39m__init__\u001b[39m(\u001b[39mself\u001b[39m,lista):\n\u001b[0;32m      <a href='file:///c%3A/Users/tacas/Documents/HENRY/Python-Prep/08%20-%20Error%20Handling/Metodos.py?line=6'>7</a>\u001b[0m     \u001b[39mif\u001b[39;00m(\u001b[39mtype\u001b[39m(lista) \u001b[39m!=\u001b[39m \u001b[39mlist\u001b[39m):\n\u001b[1;32m----> <a href='file:///c%3A/Users/tacas/Documents/HENRY/Python-Prep/08%20-%20Error%20Handling/Metodos.py?line=7'>8</a>\u001b[0m         \u001b[39mraise\u001b[39;00m \u001b[39mValueError\u001b[39;00m(\u001b[39m\"\u001b[39m\u001b[39mEl valor ingresado no es de tipo \u001b[39m\u001b[39m'\u001b[39m\u001b[39mList\u001b[39m\u001b[39m'\u001b[39m\u001b[39m \u001b[39m\u001b[39m\"\u001b[39m) \n\u001b[0;32m      <a href='file:///c%3A/Users/tacas/Documents/HENRY/Python-Prep/08%20-%20Error%20Handling/Metodos.py?line=8'>9</a>\u001b[0m     \u001b[39melse\u001b[39;00m:\n\u001b[0;32m     <a href='file:///c%3A/Users/tacas/Documents/HENRY/Python-Prep/08%20-%20Error%20Handling/Metodos.py?line=9'>10</a>\u001b[0m         \u001b[39mself\u001b[39m\u001b[39m.\u001b[39mlista \u001b[39m=\u001b[39m lista\n",
      "\u001b[1;31mValueError\u001b[0m: El valor ingresado no es de tipo 'List' "
     ]
    }
   ],
   "source": [
    "m = Metodos('hola')"
   ]
  },
  {
   "cell_type": "code",
   "execution_count": 3,
   "metadata": {},
   "outputs": [],
   "source": [
    "m1 = Metodos([2,3,5,6,2])"
   ]
  },
  {
   "cell_type": "markdown",
   "metadata": {},
   "source": [
    "2) En la función que hace la conversión de grados, validar que los parámetros enviados sean los esperados, de no serlo, informar cuáles son los valores esperados."
   ]
  },
  {
   "cell_type": "code",
   "execution_count": 4,
   "metadata": {},
   "outputs": [
    {
     "ename": "NameError",
     "evalue": "name 'h' is not defined",
     "output_type": "error",
     "traceback": [
      "\u001b[1;31m---------------------------------------------------------------------------\u001b[0m",
      "\u001b[1;31mNameError\u001b[0m                                 Traceback (most recent call last)",
      "\u001b[1;32mc:\\Users\\tacas\\Documents\\HENRY\\Python-Prep\\08 - Error Handling\\Prep_Course_Homework_08-Resuelto.ipynb Cell 8'\u001b[0m in \u001b[0;36m<cell line: 2>\u001b[1;34m()\u001b[0m\n\u001b[0;32m      <a href='vscode-notebook-cell:/c%3A/Users/tacas/Documents/HENRY/Python-Prep/08%20-%20Error%20Handling/Prep_Course_Homework_08-Resuelto.ipynb#ch0000007?line=0'>1</a>\u001b[0m \u001b[39mimport\u001b[39;00m \u001b[39mimportlib\u001b[39;00m\n\u001b[1;32m----> <a href='vscode-notebook-cell:/c%3A/Users/tacas/Documents/HENRY/Python-Prep/08%20-%20Error%20Handling/Prep_Course_Homework_08-Resuelto.ipynb#ch0000007?line=1'>2</a>\u001b[0m importlib\u001b[39m.\u001b[39mreload(h)\n",
      "\u001b[1;31mNameError\u001b[0m: name 'h' is not defined"
     ]
    }
   ],
   "source": [
    "import importlib\n",
    "importlib.reload(h)"
   ]
  },
  {
   "cell_type": "code",
   "execution_count": 5,
   "metadata": {},
   "outputs": [],
   "source": [
    "m1 = Metodos([2,3,5,6,2])"
   ]
  },
  {
   "cell_type": "code",
   "execution_count": 6,
   "metadata": {},
   "outputs": [
    {
     "name": "stdout",
     "output_type": "stream",
     "text": [
      "Se esperaba uno de los siguientes valores [farenheit,celsius,kelvin]\n"
     ]
    },
    {
     "data": {
      "text/plain": [
       "[]"
      ]
     },
     "execution_count": 6,
     "metadata": {},
     "output_type": "execute_result"
    }
   ],
   "source": [
    "m1.lista_Conversion_grados(1,2)"
   ]
  },
  {
   "cell_type": "code",
   "execution_count": 21,
   "metadata": {},
   "outputs": [
    {
     "ename": "NameError",
     "evalue": "name 'h1' is not defined",
     "output_type": "error",
     "traceback": [
      "\u001b[1;31m---------------------------------------------------------------------------\u001b[0m",
      "\u001b[1;31mNameError\u001b[0m                                 Traceback (most recent call last)",
      "\u001b[1;32mc:\\Users\\tacas\\Documents\\HENRY\\Python-Prep\\08 - Error Handling\\Prep_Course_Homework_08-Resuelto.ipynb Cell 11'\u001b[0m in \u001b[0;36m<cell line: 1>\u001b[1;34m()\u001b[0m\n\u001b[1;32m----> <a href='vscode-notebook-cell:/c%3A/Users/tacas/Documents/HENRY/Python-Prep/08%20-%20Error%20Handling/Prep_Course_Homework_08-Resuelto.ipynb#ch0000010?line=0'>1</a>\u001b[0m h1\u001b[39m.\u001b[39mconversion_grados(\u001b[39m'\u001b[39m\u001b[39mcelsius\u001b[39m\u001b[39m'\u001b[39m,\u001b[39m'\u001b[39m\u001b[39mfarenheit\u001b[39m\u001b[39m'\u001b[39m)\n",
      "\u001b[1;31mNameError\u001b[0m: name 'h1' is not defined"
     ]
    }
   ],
   "source": [
    "h1.conversion_grados('celsius','farenheit')"
   ]
  },
  {
   "cell_type": "markdown",
   "metadata": {},
   "source": [
    "3) Importar el modulo \"unittest\" y crear los siguientes casos de pruebas sobre la clase utilizada en el punto 2<br>\n",
    "Creacion del objeto incorrecta<br>\n",
    "Creacion correcta del objeto<br>\n",
    "Metodo valor_modal()<br>\n",
    "\n",
    "Se puede usar \"raise ValueError()\" en la creación de la clase para verificar el error. Investigar sobre esta funcionalidad."
   ]
  },
  {
   "cell_type": "code",
   "execution_count": 7,
   "metadata": {},
   "outputs": [],
   "source": [
    "import unittest"
   ]
  },
  {
   "cell_type": "code",
   "execution_count": 8,
   "metadata": {},
   "outputs": [],
   "source": [
    "class ProbandoMiClase(unittest.TestCase):\n",
    "    \n",
    "    def test_crear_objeto1(self):\n",
    "        param = 'hola'\n",
    "        self.assertRaises(ValueError, Metodos, param)\n",
    "        #self.failUnlessRaises(ValueError, h.Herramientas, param)\n",
    "\n",
    "    def test_crear_objeto2(self):\n",
    "        param = [1,2,2,5]\n",
    "        h1 = Metodos(param)\n",
    "        self.assertEqual(h1.lista, param)\n",
    "\n",
    "    def test_valor_modal(self):\n",
    "        lis = [1,2,1,3]\n",
    "        h1 = Metodos(lis)\n",
    "        moda = h1.encontrarMayorRepetido(False)\n",
    "        resultado = \"el numero que mas se repite es el \"+str(1)+\" con \"+str(2)+\" repeticiones\"\n",
    "        self.assertEqual(moda, resultado)"
   ]
  },
  {
   "cell_type": "code",
   "execution_count": 9,
   "metadata": {},
   "outputs": [
    {
     "name": "stderr",
     "output_type": "stream",
     "text": [
      "test_crear_objeto1 (__main__.ProbandoMiClase) ... ok\n",
      "test_crear_objeto2 (__main__.ProbandoMiClase) ... ok\n",
      "test_valor_modal (__main__.ProbandoMiClase) ... ERROR\n",
      "\n",
      "======================================================================\n",
      "ERROR: test_valor_modal (__main__.ProbandoMiClase)\n",
      "----------------------------------------------------------------------\n",
      "Traceback (most recent call last):\n",
      "  File \"C:\\Users\\tacas\\AppData\\Local\\Temp\\ipykernel_7092\\3933433290.py\", line 16, in test_valor_modal\n",
      "    moda = h1.encontrarMayorRepetido(False)\n",
      "  File \"c:\\Users\\tacas\\Documents\\HENRY\\Python-Prep\\08 - Error Handling\\Metodos.py\", line 107, in encontrarMayorRepetido\n",
      "    diccionario = self.crearDicc(lista)\n",
      "  File \"c:\\Users\\tacas\\Documents\\HENRY\\Python-Prep\\08 - Error Handling\\Metodos.py\", line 93, in crearDicc\n",
      "    for i in lista:\n",
      "TypeError: 'bool' object is not iterable\n",
      "\n",
      "----------------------------------------------------------------------\n",
      "Ran 3 tests in 0.006s\n",
      "\n",
      "FAILED (errors=1)\n"
     ]
    },
    {
     "data": {
      "text/plain": [
       "<unittest.main.TestProgram at 0x1d0e0c975e0>"
      ]
     },
     "execution_count": 9,
     "metadata": {},
     "output_type": "execute_result"
    }
   ],
   "source": [
    "unittest.main(argv=[''], verbosity=2, exit=False)"
   ]
  },
  {
   "cell_type": "markdown",
   "metadata": {},
   "source": [
    "4) Probar una creación incorrecta y visualizar la salida del \"raise\""
   ]
  },
  {
   "cell_type": "code",
   "execution_count": 10,
   "metadata": {},
   "outputs": [
    {
     "ename": "ValueError",
     "evalue": "El valor ingresado no es de tipo 'List' ",
     "output_type": "error",
     "traceback": [
      "\u001b[1;31m---------------------------------------------------------------------------\u001b[0m",
      "\u001b[1;31mValueError\u001b[0m                                Traceback (most recent call last)",
      "\u001b[1;32mc:\\Users\\tacas\\Documents\\HENRY\\Python-Prep\\08 - Error Handling\\Prep_Course_Homework_08-Resuelto.ipynb Cell 17'\u001b[0m in \u001b[0;36m<cell line: 1>\u001b[1;34m()\u001b[0m\n\u001b[1;32m----> <a href='vscode-notebook-cell:/c%3A/Users/tacas/Documents/HENRY/Python-Prep/08%20-%20Error%20Handling/Prep_Course_Homework_08-Resuelto.ipynb#ch0000016?line=0'>1</a>\u001b[0m h2 \u001b[39m=\u001b[39m Metodos(\u001b[39m'\u001b[39;49m\u001b[39malgo\u001b[39;49m\u001b[39m'\u001b[39;49m)\n",
      "File \u001b[1;32mc:\\Users\\tacas\\Documents\\HENRY\\Python-Prep\\08 - Error Handling\\Metodos.py:8\u001b[0m, in \u001b[0;36mMetodos.__init__\u001b[1;34m(self, lista)\u001b[0m\n\u001b[0;32m      <a href='file:///c%3A/Users/tacas/Documents/HENRY/Python-Prep/08%20-%20Error%20Handling/Metodos.py?line=5'>6</a>\u001b[0m \u001b[39mdef\u001b[39;00m \u001b[39m__init__\u001b[39m(\u001b[39mself\u001b[39m,lista):\n\u001b[0;32m      <a href='file:///c%3A/Users/tacas/Documents/HENRY/Python-Prep/08%20-%20Error%20Handling/Metodos.py?line=6'>7</a>\u001b[0m     \u001b[39mif\u001b[39;00m(\u001b[39mtype\u001b[39m(lista) \u001b[39m!=\u001b[39m \u001b[39mlist\u001b[39m):\n\u001b[1;32m----> <a href='file:///c%3A/Users/tacas/Documents/HENRY/Python-Prep/08%20-%20Error%20Handling/Metodos.py?line=7'>8</a>\u001b[0m         \u001b[39mraise\u001b[39;00m \u001b[39mValueError\u001b[39;00m(\u001b[39m\"\u001b[39m\u001b[39mEl valor ingresado no es de tipo \u001b[39m\u001b[39m'\u001b[39m\u001b[39mList\u001b[39m\u001b[39m'\u001b[39m\u001b[39m \u001b[39m\u001b[39m\"\u001b[39m) \n\u001b[0;32m      <a href='file:///c%3A/Users/tacas/Documents/HENRY/Python-Prep/08%20-%20Error%20Handling/Metodos.py?line=8'>9</a>\u001b[0m     \u001b[39melse\u001b[39;00m:\n\u001b[0;32m     <a href='file:///c%3A/Users/tacas/Documents/HENRY/Python-Prep/08%20-%20Error%20Handling/Metodos.py?line=9'>10</a>\u001b[0m         \u001b[39mself\u001b[39m\u001b[39m.\u001b[39mlista \u001b[39m=\u001b[39m lista\n",
      "\u001b[1;31mValueError\u001b[0m: El valor ingresado no es de tipo 'List' "
     ]
    }
   ],
   "source": [
    "h2 = Metodos('algo')"
   ]
  },
  {
   "cell_type": "markdown",
   "metadata": {},
   "source": [
    "6) Agregar casos de pruebas para el método verifica_primos() realizando el cambio en la clase, para que devuelva una lista de True o False en función de que el elemento en la posisicón sea o no primo"
   ]
  },
  {
   "cell_type": "code",
   "execution_count": 11,
   "metadata": {},
   "outputs": [],
   "source": [
    "class ProbandoMiClase2(unittest.TestCase):\n",
    "\n",
    "    def test_verifica_primos1(self):\n",
    "        lis = [2,3,8,10,13]\n",
    "        h1 = Metodos(lis)\n",
    "        primos = h1.lista_esPrimo()\n",
    "        primos_esperado = [True, True, False, False, True]\n",
    "        self.assertEqual(primos, primos_esperado)"
   ]
  },
  {
   "cell_type": "code",
   "execution_count": 15,
   "metadata": {},
   "outputs": [
    {
     "data": {
      "text/plain": [
       "<module 'herramientas' from 'c:\\\\Users\\\\lopez\\\\Documents\\\\Henry\\\\Repos\\\\Python-Prep\\\\08 - Error Handling\\\\herramientas.py'>"
      ]
     },
     "execution_count": 15,
     "metadata": {},
     "output_type": "execute_result"
    }
   ],
   "source": [
    "importlib.reload(h)"
   ]
  },
  {
   "cell_type": "code",
   "execution_count": 12,
   "metadata": {},
   "outputs": [
    {
     "name": "stderr",
     "output_type": "stream",
     "text": [
      "test_crear_objeto1 (__main__.ProbandoMiClase) ... ok\n",
      "test_crear_objeto2 (__main__.ProbandoMiClase) ... ok\n",
      "test_valor_modal (__main__.ProbandoMiClase) ... ERROR\n",
      "test_verifica_primos1 (__main__.ProbandoMiClase2) ... ok\n",
      "\n",
      "======================================================================\n",
      "ERROR: test_valor_modal (__main__.ProbandoMiClase)\n",
      "----------------------------------------------------------------------\n",
      "Traceback (most recent call last):\n",
      "  File \"C:\\Users\\tacas\\AppData\\Local\\Temp\\ipykernel_7092\\3933433290.py\", line 16, in test_valor_modal\n",
      "    moda = h1.encontrarMayorRepetido(False)\n",
      "  File \"c:\\Users\\tacas\\Documents\\HENRY\\Python-Prep\\08 - Error Handling\\Metodos.py\", line 107, in encontrarMayorRepetido\n",
      "    diccionario = self.crearDicc(lista)\n",
      "  File \"c:\\Users\\tacas\\Documents\\HENRY\\Python-Prep\\08 - Error Handling\\Metodos.py\", line 93, in crearDicc\n",
      "    for i in lista:\n",
      "TypeError: 'bool' object is not iterable\n",
      "\n",
      "----------------------------------------------------------------------\n",
      "Ran 4 tests in 0.009s\n",
      "\n",
      "FAILED (errors=1)\n"
     ]
    },
    {
     "data": {
      "text/plain": [
       "<unittest.main.TestProgram at 0x1d0e0dae4d0>"
      ]
     },
     "execution_count": 12,
     "metadata": {},
     "output_type": "execute_result"
    }
   ],
   "source": [
    "unittest.main(argv=[''], verbosity=2, exit=False)"
   ]
  },
  {
   "cell_type": "markdown",
   "metadata": {},
   "source": [
    "7) Agregar casos de pruebas para el método conversion_grados()"
   ]
  },
  {
   "cell_type": "code",
   "execution_count": 13,
   "metadata": {},
   "outputs": [],
   "source": [
    "class ProbandoMiClase3(unittest.TestCase):\n",
    "\n",
    "    def test_verifica_conversion1(self):\n",
    "        lis = [2,3,8,10,13]\n",
    "        h1 = Metodos(lis)\n",
    "        grados = h1.lista_Conversion_grados('celsius','farenheit')\n",
    "        grados_esperado = [35.6, 37.4, 46.4, 50.0, 55.4]\n",
    "        self.assertEqual(grados, grados_esperado)"
   ]
  },
  {
   "cell_type": "code",
   "execution_count": 18,
   "metadata": {},
   "outputs": [
    {
     "data": {
      "text/plain": [
       "<module 'herramientas' from 'c:\\\\Users\\\\lopez\\\\Documents\\\\Henry\\\\Repos\\\\Python-Prep\\\\08 - Error Handling\\\\herramientas.py'>"
      ]
     },
     "execution_count": 18,
     "metadata": {},
     "output_type": "execute_result"
    }
   ],
   "source": [
    "importlib.reload(h)"
   ]
  },
  {
   "cell_type": "code",
   "execution_count": 14,
   "metadata": {},
   "outputs": [
    {
     "name": "stderr",
     "output_type": "stream",
     "text": [
      "test_crear_objeto1 (__main__.ProbandoMiClase) ... ok\n",
      "test_crear_objeto2 (__main__.ProbandoMiClase) ... ok\n",
      "test_valor_modal (__main__.ProbandoMiClase) ... ERROR\n",
      "test_verifica_primos1 (__main__.ProbandoMiClase2) ... ok\n",
      "test_verifica_conversion1 (__main__.ProbandoMiClase3) ... ok\n",
      "\n",
      "======================================================================\n",
      "ERROR: test_valor_modal (__main__.ProbandoMiClase)\n",
      "----------------------------------------------------------------------\n",
      "Traceback (most recent call last):\n",
      "  File \"C:\\Users\\tacas\\AppData\\Local\\Temp\\ipykernel_7092\\3933433290.py\", line 16, in test_valor_modal\n",
      "    moda = h1.encontrarMayorRepetido(False)\n",
      "  File \"c:\\Users\\tacas\\Documents\\HENRY\\Python-Prep\\08 - Error Handling\\Metodos.py\", line 107, in encontrarMayorRepetido\n",
      "    diccionario = self.crearDicc(lista)\n",
      "  File \"c:\\Users\\tacas\\Documents\\HENRY\\Python-Prep\\08 - Error Handling\\Metodos.py\", line 93, in crearDicc\n",
      "    for i in lista:\n",
      "TypeError: 'bool' object is not iterable\n",
      "\n",
      "----------------------------------------------------------------------\n",
      "Ran 5 tests in 0.010s\n",
      "\n",
      "FAILED (errors=1)\n"
     ]
    },
    {
     "data": {
      "text/plain": [
       "<unittest.main.TestProgram at 0x1d0e0bcc730>"
      ]
     },
     "execution_count": 14,
     "metadata": {},
     "output_type": "execute_result"
    }
   ],
   "source": [
    "unittest.main(argv=[''], verbosity=2, exit=False)"
   ]
  },
  {
   "cell_type": "markdown",
   "metadata": {},
   "source": [
    "8) Agregar casos de pruebas para el método factorial()"
   ]
  },
  {
   "cell_type": "code",
   "execution_count": 15,
   "metadata": {},
   "outputs": [],
   "source": [
    "class ProbandoMiClase4(unittest.TestCase):\n",
    "\n",
    "    def test_verifica_factorial(self):\n",
    "        lis = [2,3,8,10,13]\n",
    "        h1 = Metodos(lis)\n",
    "        factorial = h1.lista_Factorial()\n",
    "        factorial_esperado = [2, 6, 40320, 3628800, 6227020800]\n",
    "        self.assertEqual(factorial, factorial_esperado)"
   ]
  },
  {
   "cell_type": "code",
   "execution_count": 21,
   "metadata": {},
   "outputs": [
    {
     "data": {
      "text/plain": [
       "<module 'herramientas' from 'c:\\\\Users\\\\lopez\\\\Documents\\\\Henry\\\\Repos\\\\Python-Prep\\\\08 - Error Handling\\\\herramientas.py'>"
      ]
     },
     "execution_count": 21,
     "metadata": {},
     "output_type": "execute_result"
    }
   ],
   "source": [
    "importlib.reload(h)"
   ]
  },
  {
   "cell_type": "code",
   "execution_count": 16,
   "metadata": {},
   "outputs": [
    {
     "name": "stderr",
     "output_type": "stream",
     "text": [
      "test_crear_objeto1 (__main__.ProbandoMiClase) ... ok\n",
      "test_crear_objeto2 (__main__.ProbandoMiClase) ... ok\n",
      "test_valor_modal (__main__.ProbandoMiClase) ... ERROR\n",
      "test_verifica_primos1 (__main__.ProbandoMiClase2) ... ok\n",
      "test_verifica_conversion1 (__main__.ProbandoMiClase3) ... ok\n",
      "test_verifica_factorial (__main__.ProbandoMiClase4) ... ok\n",
      "\n",
      "======================================================================\n",
      "ERROR: test_valor_modal (__main__.ProbandoMiClase)\n",
      "----------------------------------------------------------------------\n",
      "Traceback (most recent call last):\n",
      "  File \"C:\\Users\\tacas\\AppData\\Local\\Temp\\ipykernel_7092\\3933433290.py\", line 16, in test_valor_modal\n",
      "    moda = h1.encontrarMayorRepetido(False)\n",
      "  File \"c:\\Users\\tacas\\Documents\\HENRY\\Python-Prep\\08 - Error Handling\\Metodos.py\", line 107, in encontrarMayorRepetido\n",
      "    diccionario = self.crearDicc(lista)\n",
      "  File \"c:\\Users\\tacas\\Documents\\HENRY\\Python-Prep\\08 - Error Handling\\Metodos.py\", line 93, in crearDicc\n",
      "    for i in lista:\n",
      "TypeError: 'bool' object is not iterable\n",
      "\n",
      "----------------------------------------------------------------------\n",
      "Ran 6 tests in 0.013s\n",
      "\n",
      "FAILED (errors=1)\n"
     ]
    },
    {
     "data": {
      "text/plain": [
       "<unittest.main.TestProgram at 0x1d0e0ccbcd0>"
      ]
     },
     "execution_count": 16,
     "metadata": {},
     "output_type": "execute_result"
    }
   ],
   "source": [
    "unittest.main(argv=[''], verbosity=2, exit=False)"
   ]
  }
 ],
 "metadata": {
  "interpreter": {
   "hash": "3bc86d9885e10fbb8f6d439d94813f2507bac85a425559903a8d4d8be592f11a"
  },
  "kernelspec": {
   "display_name": "Python 3.10.4 64-bit",
   "language": "python",
   "name": "python3"
  },
  "language_info": {
   "codemirror_mode": {
    "name": "ipython",
    "version": 3
   },
   "file_extension": ".py",
   "mimetype": "text/x-python",
   "name": "python",
   "nbconvert_exporter": "python",
   "pygments_lexer": "ipython3",
   "version": "3.10.4"
  }
 },
 "nbformat": 4,
 "nbformat_minor": 4
}
